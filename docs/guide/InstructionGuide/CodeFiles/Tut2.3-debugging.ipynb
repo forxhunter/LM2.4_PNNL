{
 "cells": [
  {
   "cell_type": "markdown",
   "metadata": {},
   "source": [
    "<h1> Tutorial 2.3 - Debugging pyLM Simulations </h1>\n",
    "\n",
    "In this tutorial you will use how to use the pyLM Logger output to find errors in your pyLM scripts. Try to find the errors in this script and fix them."
   ]
  },
  {
   "cell_type": "code",
   "execution_count": 1,
   "metadata": {
    "ExecuteTime": {
     "end_time": "2017-04-20T17:26:34.067190Z",
     "start_time": "2017-04-20T17:26:33.555314Z"
    }
   },
   "outputs": [],
   "source": [
    "import os\n",
    "import numpy as np\n",
    "import matplotlib.pyplot as plt\n",
    "from pyLM import *\n",
    "from pyLM.units import *\n",
    "from pySTDLM import *\n",
    "from pySTDLM.PostProcessing import *\n",
    "%matplotlib inline"
   ]
  },
  {
   "cell_type": "code",
   "execution_count": 2,
   "metadata": {
    "ExecuteTime": {
     "end_time": "2017-04-20T17:26:34.072094Z",
     "start_time": "2017-04-20T17:26:34.069166Z"
    },
    "collapsed": true
   },
   "outputs": [],
   "source": [
    "# Turn on logger\n",
    "from pyLM import LMLogger\n",
    "LMLogger.setLMLogConsole(logging.DEBUG)"
   ]
  },
  {
   "cell_type": "code",
   "execution_count": 3,
   "metadata": {
    "ExecuteTime": {
     "end_time": "2017-04-20T17:26:34.076897Z",
     "start_time": "2017-04-20T17:26:34.073729Z"
    },
    "collapsed": true
   },
   "outputs": [],
   "source": [
    "# Constants\n",
    "V  = 1.0e-15       # L\n",
    "NA = 6.022e23      # molecules/mole\n",
    "kf = 1.07e5/(NA*V) # /M/s\n",
    "kr = 0.351         # /s"
   ]
  },
  {
   "cell_type": "code",
   "execution_count": 4,
   "metadata": {
    "ExecuteTime": {
     "end_time": "2017-04-20T17:26:34.080807Z",
     "start_time": "2017-04-20T17:26:34.078454Z"
    },
    "collapsed": true
   },
   "outputs": [],
   "source": [
    "# Create our CME simulation object\n",
    "sim=CME.CMESimulation()"
   ]
  },
  {
   "cell_type": "code",
   "execution_count": 5,
   "metadata": {
    "ExecuteTime": {
     "end_time": "2017-04-20T17:26:34.085000Z",
     "start_time": "2017-04-20T17:26:34.082336Z"
    },
    "collapsed": true
   },
   "outputs": [],
   "source": [
    "# define our chemical species\n",
    "species = ['A', 'B', 'C']\n",
    "sim.defineSpecies(species)"
   ]
  },
  {
   "cell_type": "code",
   "execution_count": 6,
   "metadata": {
    "ExecuteTime": {
     "end_time": "2017-04-20T17:26:34.089562Z",
     "start_time": "2017-04-20T17:26:34.086574Z"
    },
    "collapsed": true
   },
   "outputs": [],
   "source": [
    "# Add reactions to the simulation\n",
    "sim.addReaction(reactant=('a','B'), product='C', rate=kf)\n",
    "sim.addReaction(reactant='C', product=('A','B'), rate=kr)"
   ]
  },
  {
   "cell_type": "code",
   "execution_count": 7,
   "metadata": {
    "ExecuteTime": {
     "end_time": "2017-04-20T17:26:34.158770Z",
     "start_time": "2017-04-20T17:26:34.091373Z"
    }
   },
   "outputs": [
    {
     "name": "stderr",
     "output_type": "stream",
     "text": [
      "2017-04-20 12:26:34,093: WARNING: In CME.addParticles, couldn't find particle of type a in map (is it previously defined with 'CME.defineSpecies(...)'?).  Shouldn't happen.\n"
     ]
    },
    {
     "ename": "KeyError",
     "evalue": "'a'",
     "output_type": "error",
     "traceback": [
      "\u001b[0;31m---------------------------------------------------------------------------\u001b[0m",
      "\u001b[0;31mKeyError\u001b[0m                                  Traceback (most recent call last)",
      "\u001b[0;32m<ipython-input-7-f67ed671d056>\u001b[0m in \u001b[0;36m<module>\u001b[0;34m()\u001b[0m\n\u001b[1;32m      1\u001b[0m \u001b[0;31m# Set our initial species counts\u001b[0m\u001b[0;34m\u001b[0m\u001b[0;34m\u001b[0m\u001b[0m\n\u001b[0;32m----> 2\u001b[0;31m \u001b[0msim\u001b[0m\u001b[0;34m.\u001b[0m\u001b[0maddParticles\u001b[0m\u001b[0;34m(\u001b[0m\u001b[0mspecies\u001b[0m\u001b[0;34m=\u001b[0m\u001b[0;34m'a'\u001b[0m\u001b[0;34m,\u001b[0m \u001b[0mcount\u001b[0m\u001b[0;34m=\u001b[0m\u001b[0;36m1000\u001b[0m\u001b[0;34m)\u001b[0m\u001b[0;34m\u001b[0m\u001b[0m\n\u001b[0m\u001b[1;32m      3\u001b[0m \u001b[0msim\u001b[0m\u001b[0;34m.\u001b[0m\u001b[0maddParticles\u001b[0m\u001b[0;34m(\u001b[0m\u001b[0mspecies\u001b[0m\u001b[0;34m=\u001b[0m\u001b[0;34m'B'\u001b[0m\u001b[0;34m,\u001b[0m \u001b[0mcount\u001b[0m\u001b[0;34m=\u001b[0m\u001b[0;36m1000\u001b[0m\u001b[0;34m)\u001b[0m\u001b[0;34m\u001b[0m\u001b[0m\n\u001b[1;32m      4\u001b[0m \u001b[0msim\u001b[0m\u001b[0;34m.\u001b[0m\u001b[0maddParticles\u001b[0m\u001b[0;34m(\u001b[0m\u001b[0mspecies\u001b[0m\u001b[0;34m=\u001b[0m\u001b[0;34m'C'\u001b[0m\u001b[0;34m,\u001b[0m \u001b[0mcount\u001b[0m\u001b[0;34m=\u001b[0m\u001b[0;36m0\u001b[0m\u001b[0;34m)\u001b[0m\u001b[0;34m\u001b[0m\u001b[0m\n",
      "\u001b[0;32m/home/jpeterson/Programming/LMDev/LMcuda/lib/python/pyLM/CME.py\u001b[0m in \u001b[0;36maddParticles\u001b[0;34m(self, species, count)\u001b[0m\n\u001b[1;32m     88\u001b[0m                         \u001b[0mparticleNum\u001b[0m\u001b[0;34m=\u001b[0m\u001b[0;36m1\u001b[0m\u001b[0;34m\u001b[0m\u001b[0m\n\u001b[1;32m     89\u001b[0m                         \u001b[0mLMLogger\u001b[0m\u001b[0;34m.\u001b[0m\u001b[0mwarn\u001b[0m\u001b[0;34m(\u001b[0m\u001b[0;34m'In CME.addParticles, couldn\\'t find particle of type %s in map (is it previously defined with \\'CME.defineSpecies(...)\\'?).  Shouldn\\'t happen.'\u001b[0m\u001b[0;34m,\u001b[0m\u001b[0mspecies\u001b[0m\u001b[0;34m)\u001b[0m\u001b[0;34m\u001b[0m\u001b[0m\n\u001b[0;32m---> 90\u001b[0;31m                 \u001b[0mself\u001b[0m\u001b[0;34m.\u001b[0m\u001b[0minitial_counts\u001b[0m\u001b[0;34m[\u001b[0m\u001b[0mspecies\u001b[0m\u001b[0;34m]\u001b[0m\u001b[0;34m+=\u001b[0m\u001b[0mcount\u001b[0m\u001b[0;34m\u001b[0m\u001b[0m\n\u001b[0m\u001b[1;32m     91\u001b[0m \u001b[0;34m\u001b[0m\u001b[0m\n\u001b[1;32m     92\u001b[0m         \u001b[0;31m## Add a concentration of particles of the specified type to the simulation\u001b[0m\u001b[0;34m\u001b[0m\u001b[0;34m\u001b[0m\u001b[0m\n",
      "\u001b[0;31mKeyError\u001b[0m: 'a'"
     ]
    }
   ],
   "source": [
    "# Set our initial species counts\n",
    "sim.addParticles(species='a', count=1000)\n",
    "sim.addParticles(species='B', count=1000)\n",
    "sim.addParticles(species='C', count=0)"
   ]
  },
  {
   "cell_type": "code",
   "execution_count": null,
   "metadata": {
    "ExecuteTime": {
     "end_time": "2017-04-20T17:26:34.159483Z",
     "start_time": "2017-04-20T17:26:33.595Z"
    }
   },
   "outputs": [],
   "source": [
    "# Define simulation parameters: run for 10 seconds, saving data every ms\n",
    "sim.setWriteInterval(microsecond(30))\n",
    "sim.setSimulationTime(30)\n",
    "filename = \"T2.3-bimol.lm\"\n",
    "os.system(\"rm -rf %s\"%filename)\n",
    "sim.save(filename)"
   ]
  },
  {
   "cell_type": "code",
   "execution_count": null,
   "metadata": {
    "ExecuteTime": {
     "end_time": "2017-04-20T17:26:34.160317Z",
     "start_time": "2017-04-20T17:26:33.599Z"
    },
    "collapsed": true
   },
   "outputs": [],
   "source": [
    "# Run 1 replicates using the Gillespie solver\n",
    "sim.run(filename=filename, method=\"lm::cme::GillespieDSolver\", replicates=1)"
   ]
  },
  {
   "cell_type": "code",
   "execution_count": null,
   "metadata": {
    "ExecuteTime": {
     "end_time": "2017-04-20T17:26:34.161161Z",
     "start_time": "2017-04-20T17:26:33.602Z"
    }
   },
   "outputs": [],
   "source": [
    "# Plot the solution\n",
    "filehandle = openLMFile(filename)\n",
    "plotTrace(filehandle, species=['A','C'], replicate=1)\n",
    "closeLMFile(filehandle)"
   ]
  },
  {
   "cell_type": "code",
   "execution_count": null,
   "metadata": {
    "collapsed": true
   },
   "outputs": [],
   "source": []
  }
 ],
 "metadata": {
  "kernelspec": {
   "display_name": "Python 3",
   "language": "python",
   "name": "python3"
  },
  "language_info": {
   "codemirror_mode": {
    "name": "ipython",
    "version": 3
   },
   "file_extension": ".py",
   "mimetype": "text/x-python",
   "name": "python",
   "nbconvert_exporter": "python",
   "pygments_lexer": "ipython3",
   "version": "3.4.3"
  },
  "toc": {
   "toc_cell": false,
   "toc_number_sections": true,
   "toc_threshold": 6,
   "toc_window_display": false
  }
 },
 "nbformat": 4,
 "nbformat_minor": 1
}
