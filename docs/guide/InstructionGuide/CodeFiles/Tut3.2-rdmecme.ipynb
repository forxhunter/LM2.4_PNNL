{
 "cells": [
  {
   "cell_type": "markdown",
   "metadata": {},
   "source": [
    "<h1> Tutorial 3.2 - Coupling RDME and CME </h1>\n",
    "\n",
    "Often times you will want to have custom control of the simulation.  For example, you may want to inject particles at some point after the simulation has started.  Alternatively, you may want to couple an RDME and CME simulation.  This tutorial shows how to do this for an RDME simulation. <br/>\n",
    "\n",
    "\n",
    "By creating a child class of ```lm.MpdRdmeSolver``` in python, we can override the virtual method ```hookSimulation()``` that is called at every frame write time.  We will be given a copy of the ```ByteLattice``` that we can modify.<br/>\n",
    "\n",
    "As a demonstration, we couple an RDME simulation that includes the diffusion of an mRNA and the protein it encodes. The protein is an enzyme that converts a substrate to a product.  It includes a gene and polymerases that react to create an mRNA. At a regular interval, the simulation control jumps to this Python script.  When it does, we use the count of protein in a CME simulation to estimate the amount of substrate that has been converted to product.\n"
   ]
  },
  {
   "cell_type": "code",
   "execution_count": null,
   "metadata": {
    "ExecuteTime": {
     "end_time": "2017-04-20T20:23:06.609174Z",
     "start_time": "2017-04-20T20:23:06.179099Z"
    },
    "collapsed": true
   },
   "outputs": [],
   "source": [
    "import os\n",
    "import random\n",
    "import time as tm\n",
    "from pyLM import CME\n",
    "from pyLM import RDME\n",
    "from pyLM import LMLogger\n",
    "from pyLM.units import *\n",
    "import pySTDLM.PostProcessing as pp\n",
    "import numpy as np\n",
    "\n",
    "import matplotlib.pyplot as plt\n",
    "\n",
    "from tqdm import tqdm\n",
    "%matplotlib inline"
   ]
  },
  {
   "cell_type": "code",
   "execution_count": null,
   "metadata": {
    "ExecuteTime": {
     "end_time": "2017-04-20T20:23:06.617289Z",
     "start_time": "2017-04-20T20:23:06.610881Z"
    }
   },
   "outputs": [],
   "source": [
    "# Turn on Logging\n",
    "import logging\n",
    "LMLogger.setLMLogConsole(logging.INFO)\n",
    "lmlog=LMLogger.LMLogger\n",
    "pbar = tqdm(total=240,ascii=True)"
   ]
  },
  {
   "cell_type": "code",
   "execution_count": null,
   "metadata": {
    "ExecuteTime": {
     "end_time": "2017-04-20T20:23:06.754327Z",
     "start_time": "2017-04-20T20:23:06.619831Z"
    },
    "code_folding": [],
    "collapsed": true
   },
   "outputs": [],
   "source": [
    "### Define our own solver class derived from MpdRdmeSolver\n",
    "class MyOwnSolver(lm.MpdRdmeSolver):\n",
    "    # Timestep Variables\n",
    "    tsnum=0\n",
    "    curt=0.0\n",
    "    delt=ms(250.0)\n",
    "\n",
    "    # Species Variables\n",
    "    numS=10000\n",
    "    numE=0\n",
    "    numES=0\n",
    "    numP=0\n",
    "\n",
    "    # Time Traces\n",
    "    times=[]\n",
    "    traceS=[]\n",
    "    traceE=[]\n",
    "    traceES=[]\n",
    "    traceP=[]\n",
    "    pbar = None\n",
    "\n",
    "    # The hookSimulation method defined here will be called at every frame \n",
    "    # write time.  The return value is either 0 or 1, which will indicate \n",
    "    # if we changed the state or not and need the lattice to be copied back \n",
    "    # to the GPU before continuing.  If you do not return 1, your changes \n",
    "    # will not be reflected.\n",
    "    def hookSimulation(self, time, lattice):\n",
    "        lmlog.info(\"Hook at time: %f sec\"%time)\n",
    "        lmlog.info(\"Creating CME simulation...\")\n",
    "        curtime=time\n",
    "        # Create simulation\n",
    "        csim=CME.CMESimulation()\n",
    "        csim.defineSpecies(['E','S','ES','P'])\n",
    "        \n",
    "        # Count enzymes in cell\n",
    "        parts=lattice.findParticles(4,4)\n",
    "        Erdme=len(parts)\n",
    "\n",
    "        # Add reactions and particles\n",
    "        k1=0.001 # molecules/s\n",
    "        k2=0.1 # /s\n",
    "        k3=0.2 # /s\n",
    "        csim.addReaction(('E','S'),'ES', k1)\n",
    "        csim.addReaction('ES',('E','S'), k2)\n",
    "        csim.addReaction('ES',('E','P'), k3)\n",
    "\n",
    "        csim.addParticles('E',  int(Erdme-self.numES))\n",
    "        csim.addParticles('ES', int(self.numES))\n",
    "        csim.addParticles('P',  int(self.numP))\n",
    "        csim.addParticles('S',  int(self.numS))\n",
    "\n",
    "        # Set time data\n",
    "        csim.setWriteInterval(ms(1))\n",
    "        csim.setSimulationTime(self.delt)\n",
    "\n",
    "        # Save and run simulation\n",
    "        filename='cmeSim.%d.lm'%self.tsnum\n",
    "        lmlog.info(\"Saving %s...\"%filename)\n",
    "        tm.sleep(1)\n",
    "        csim.save(filename)\n",
    "        lmlog.info(\"Running CME simulation...\")\n",
    "        os.system(\"lm -r 0-1 -ws -sl lm::cme::GillespieDSolver -f %s\"%filename)\n",
    "        tm.sleep(1)\n",
    "        self.tsnum += 1\n",
    "\n",
    "        # Read CME state\n",
    "        lmlog.info(\"Postprocessing...\")\n",
    "        fHandle=pp.openLMFile(filename)\n",
    "        S =pp.getSpecieTrace(fHandle, 'S')\n",
    "        endidx=len(S)-1\n",
    "        E =pp.getSpecieTrace(fHandle, 'E')\n",
    "        ES=pp.getSpecieTrace(fHandle, 'ES')\n",
    "        P =pp.getSpecieTrace(fHandle, 'P')\n",
    "\n",
    "        ts = pp.getTimesteps(fHandle)\n",
    "        tsShifted=[]\n",
    "        for i in range(len(ts)):\n",
    "            tsShifted.append(ts[i]+self.curt)\n",
    "        self.curt = curtime\n",
    "        self.times.extend(tsShifted)\n",
    "        pp.closeLMFile(fHandle)\n",
    "\n",
    "        # Add product to the RDME simulation\n",
    "        for i in range(P[endidx]-self.numP):\n",
    "            while True:\n",
    "                x=random.randint(0,lattice.getXSize()-1)\n",
    "                y=random.randint(0,lattice.getYSize()-1)\n",
    "                z=random.randint(0,lattice.getZSize()-1)\n",
    "\n",
    "                if lattice.getOccupancy(x,y,z) < 7:\n",
    "                    # Add a product particle\n",
    "                    lattice.addParticle(x,y,z,5)\n",
    "                    break\n",
    "\n",
    "        # Update Solver internals\n",
    "        lmlog.info(\"Updating internals...\")\n",
    "        self.numS=S[endidx]\n",
    "        self.numE=E[endidx]\n",
    "        self.numES=ES[endidx]\n",
    "        self.numP=P[endidx]\n",
    "        self.traceS.extend(S)\n",
    "        self.traceE.extend(E)\n",
    "        self.traceES.extend(ES)\n",
    "        self.traceP.extend(P)\n",
    "\n",
    "        pbar.update(1)\n",
    "        \n",
    "        lmlog.info(\"Resuming RDME simulation...\")\n",
    "        return 1\n",
    "\n",
    "    def saveTraces(self):\n",
    "        allTraces=[self.times, self.traceE, self.traceS, self.traceES, self.traceP]\n",
    "        np.savetxt('T3.2-CMETraces.dat', np.transpose(allTraces))\n",
    "\n",
    "    def plotTraces(self):\n",
    "        plotStr=\"gnuplot plotter.gp\"\n",
    "        os.system(plotStr)\n"
   ]
  },
  {
   "cell_type": "code",
   "execution_count": null,
   "metadata": {
    "ExecuteTime": {
     "end_time": "2017-04-20T20:23:07.039462Z",
     "start_time": "2017-04-20T20:23:06.756232Z"
    },
    "collapsed": true
   },
   "outputs": [],
   "source": [
    "# Create our simulation object\n",
    "latticeSpacing = 32 #nm\n",
    "sim=RDME.RDMESimulation(dimensions=micron(1.024,1.024,1.024), spacing=nm(latticeSpacing))"
   ]
  },
  {
   "cell_type": "code",
   "execution_count": null,
   "metadata": {
    "ExecuteTime": {
     "end_time": "2017-04-20T20:23:07.044400Z",
     "start_time": "2017-04-20T20:23:07.041308Z"
    },
    "collapsed": true
   },
   "outputs": [],
   "source": [
    "# define our chemical species\n",
    "species = ['DNA', 'Polymerase', 'RNA', 'Enzyme', 'Product']\n",
    "_ = sim.defineSpecies(species)\n"
   ]
  },
  {
   "cell_type": "code",
   "execution_count": null,
   "metadata": {
    "ExecuteTime": {
     "end_time": "2017-04-20T20:23:07.052470Z",
     "start_time": "2017-04-20T20:23:07.046006Z"
    },
    "collapsed": true
   },
   "outputs": [],
   "source": [
    "# Modify the cytoplasm to add diffusion rates and reactions\n",
    "reg=sim.modifyRegion('default')\n",
    "reg.setDefaultDiffusionRate(2.5e-12)\n",
    "reg.setDiffusionRate('DNA', 0.0)\n",
    "# 480 nt long with rate of 70 nt/sec\n",
    "reg.addReaction(reactant=('DNA', 'Polymerase'), product=('DNA', 'Polymerase', 'RNA'), rate=0.5e-3)\n",
    "# Protein length ~ 160 aa with rate of 40 aa/sec\n",
    "reg.addReaction('RNA', ('RNA','Enzyme'), 0.25)\n",
    "# RNA lifetime of 2 minutes\n",
    "reg.addReaction('RNA','', 1.0/120.0)\n",
    "# Enzyme is around for about 1/3 the cell cycle\n",
    "_ = reg.addReaction('Enzyme','', 1.0/1200.0)\n"
   ]
  },
  {
   "cell_type": "code",
   "execution_count": null,
   "metadata": {
    "ExecuteTime": {
     "end_time": "2017-04-20T20:23:07.057530Z",
     "start_time": "2017-04-20T20:23:07.054301Z"
    },
    "collapsed": true
   },
   "outputs": [],
   "source": [
    "# Add particles\n",
    "sim.addParticles(species='DNA', region='default', count=1)\n",
    "_ = sim.addParticles('Polymerase', 'default', 460)"
   ]
  },
  {
   "cell_type": "code",
   "execution_count": null,
   "metadata": {
    "ExecuteTime": {
     "end_time": "2017-04-20T20:23:07.063198Z",
     "start_time": "2017-04-20T20:23:07.059300Z"
    },
    "collapsed": true
   },
   "outputs": [],
   "source": [
    "# Set simulation Parameters\n",
    "sim.setTimestep(microsecond(200))\n",
    "sim.setWriteInterval(ms(250))\n",
    "sim.setLatticeWriteInterval(ms(250))\n",
    "sim.setSimulationTime(60)"
   ]
  },
  {
   "cell_type": "code",
   "execution_count": null,
   "metadata": {
    "ExecuteTime": {
     "end_time": "2017-04-20T20:23:07.079526Z",
     "start_time": "2017-04-20T20:23:07.065382Z"
    },
    "collapsed": true
   },
   "outputs": [],
   "source": [
    "rdmeFilename=\"T3.2-mixedRDMECME.lm\"\n",
    "try:\n",
    "    os.remove(rdmeFilename)\n",
    "    os.system(\"rm -rf cme*.lm\")\n",
    "except:\n",
    "    pass\n",
    "sim.save(rdmeFilename)"
   ]
  },
  {
   "cell_type": "markdown",
   "metadata": {},
   "source": [
    "<h2> Create an instance of your Solver </h2>\n",
    "\n",
    "You must create an instance of the solver and then use it to run the simulation.  The next two commands do this."
   ]
  },
  {
   "cell_type": "code",
   "execution_count": null,
   "metadata": {
    "ExecuteTime": {
     "end_time": "2017-04-20T20:23:07.083654Z",
     "start_time": "2017-04-20T20:23:07.081201Z"
    },
    "collapsed": true
   },
   "outputs": [],
   "source": [
    "# Create an instance of our local solver\n",
    "solver=MyOwnSolver()"
   ]
  },
  {
   "cell_type": "code",
   "execution_count": null,
   "metadata": {
    "ExecuteTime": {
     "end_time": "2017-04-20T20:34:53.398876Z",
     "start_time": "2017-04-20T20:23:07.085322Z"
    }
   },
   "outputs": [],
   "source": [
    "# Call the 'runSolver' method with the supplied solver \n",
    "# then perform the post-processing\n",
    "sim.runSolver(rdmeFilename, solver=solver)\n",
    "pbar.close()"
   ]
  },
  {
   "cell_type": "code",
   "execution_count": null,
   "metadata": {
    "ExecuteTime": {
     "end_time": "2017-04-20T20:34:53.939959Z",
     "start_time": "2017-04-20T20:34:53.403248Z"
    },
    "collapsed": true
   },
   "outputs": [],
   "source": [
    "# Post-process the data\n",
    "solver.saveTraces()\n",
    "rHandle=pp.openLMFile(rdmeFilename)\n",
    "times=pp.getTimesteps(rHandle)\n",
    "R=pp.getSpecieTrace(rHandle,'RNA')\n",
    "E=pp.getSpecieTrace(rHandle,'Enzyme')\n",
    "P=pp.getSpecieTrace(rHandle,'Product')\n",
    "rdmeTraces=[times,R,E,P]\n",
    "np.savetxt('T3.2-RDMETraces.dat',np.transpose(rdmeTraces))\n",
    "pp.closeLMFile(rHandle)"
   ]
  },
  {
   "cell_type": "code",
   "execution_count": null,
   "metadata": {
    "ExecuteTime": {
     "end_time": "2017-04-20T20:58:58.277852Z",
     "start_time": "2017-04-20T20:58:56.909291Z"
    }
   },
   "outputs": [],
   "source": [
    "# Display resulting image\n",
    "cmeTraces = np.loadtxt('T3.2-CMETraces.dat')\n",
    "rdmeTraces = np.loadtxt('T3.2-RDMETraces.dat')\n",
    "\n",
    "plt.figure()\n",
    "ax1 = plt.gca()\n",
    "l1, = ax1.plot(cmeTraces[:,0], cmeTraces[:,1], label='E', c='purple', lw=3)\n",
    "l2, = ax1.plot(cmeTraces[:,0], cmeTraces[:,3], label='ES', c='green', lw=3)\n",
    "l3, = ax1.plot(cmeTraces[:,0], cmeTraces[:,4], label='P', c='cyan', lw=3)\n",
    "ax2 = ax1.twinx()\n",
    "l4, = ax2.plot(rdmeTraces[:,0], rdmeTraces[:,1], label='RNA', c='orange', lw=3)\n",
    "l5, = ax1.plot(rdmeTraces[:,0], rdmeTraces[:,2], label='Enzyme_total', c='yellow', lw=3)\n",
    "l6, = ax1.plot(rdmeTraces[:,0], rdmeTraces[:,3], label='Product', c='blue', lw=3)\n",
    "\n",
    "plt.ylabel(\"E, ES, P, Enzyme, Product Count\")\n",
    "ax2.set_ylabel(\"RNA Count\")\n",
    "ax2.set_ylim(0,20)\n",
    "plt.xlabel(\"Time (s)\")\n",
    "plt.title(\"Coupled RDME/CME Solution\")\n",
    "plt.legend(handles=[l1,l2,l3,l4,l5,l6],loc=0)\n",
    "plt.show()"
   ]
  },
  {
   "cell_type": "markdown",
   "metadata": {},
   "source": [
    "<h2> Assignment 5 </h2>\n",
    "\n",
    "1. Read and understand the ```hookSimulation()``` routine.\n",
    "\n",
    "2. Imagine the possibilities."
   ]
  }
 ],
 "metadata": {
  "kernelspec": {
   "display_name": "Python 3",
   "language": "python",
   "name": "python3"
  },
  "language_info": {
   "codemirror_mode": {
    "name": "ipython",
    "version": 3
   },
   "file_extension": ".py",
   "mimetype": "text/x-python",
   "name": "python",
   "nbconvert_exporter": "python",
   "pygments_lexer": "ipython3",
   "version": "3.4.3"
  },
  "toc": {
   "toc_cell": false,
   "toc_number_sections": true,
   "toc_threshold": 6,
   "toc_window_display": false
  }
 },
 "nbformat": 4,
 "nbformat_minor": 1
}
