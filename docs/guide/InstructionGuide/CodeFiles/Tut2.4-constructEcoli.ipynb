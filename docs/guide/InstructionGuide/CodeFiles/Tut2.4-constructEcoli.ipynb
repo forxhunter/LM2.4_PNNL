{
 "cells": [
  {
   "cell_type": "markdown",
   "metadata": {},
   "source": [
    "# Construct an *E. coli* Cell Representation\n",
    "\n",
    "In this tutorial, you will learn how to construct a cell and add features at specific locations. We will construct an model of an *E. coli* cell using the Builder feature and idealized shapes provided by Lattice Microbes. Once built, ribosomes will be placed at specific starting locations that were extracted from Cryo-electron microscopy (Cryo-EM) data. Finally, a Jupyter GUI will be used to examine the initial conditions.\n",
    "\n",
    "The specification of an RDME simulation will generally occur in the order:\n",
    "\n",
    "1. Define simulation volume\n",
    "2. Define region types\n",
    "3. Specify reaction model\n",
    "4. Specify diffusion model\n",
    "5. Create simulation geometry\n",
    "6. Customize simulation initial conditions"
   ]
  },
  {
   "cell_type": "code",
   "execution_count": null,
   "metadata": {
    "ExecuteTime": {
     "end_time": "2017-04-20T19:09:11.959860Z",
     "start_time": "2017-04-20T19:09:11.591279Z"
    },
    "collapsed": true
   },
   "outputs": [],
   "source": [
    "import os\n",
    "import lm\n",
    "import pyLM\n",
    "from pyLM.RDME import RDMESimulation\n",
    "from pyLM.units import *\n",
    "import pySTDLM\n",
    "from pyLM.ipyInterface import visualizeRDMEInitialConditions\n",
    "\n",
    "import numpy as np\n",
    "import math\n",
    "import scipy as sp\n",
    "import scipy.spatial\n",
    "\n",
    "import matplotlib.pyplot as plt\n",
    "%matplotlib notebook"
   ]
  },
  {
   "cell_type": "markdown",
   "metadata": {},
   "source": [
    "## Create an RDME Simulation about the volume of an *E. coli* Cell\n",
    "\n",
    "First, a simulation domain is created that can hold an *E. coli* cell. From visual inspection of the Cryo-EM data, the cell is about 0.8 $\\mu m$ wide and about 3.6 $\\mu m$ long. Generally, the long dimension is aligned along the Z-axis, as this is the axis in which the <a href=\"http://www.sciencedirect.com/science/article/pii/S0167819114000398\">domain decomposition occurs allowing parallelization over many GPUs</a>. In this case, we won't actually simulate the system, so it isn't an issue, but in practice it is good."
   ]
  },
  {
   "cell_type": "code",
   "execution_count": null,
   "metadata": {
    "ExecuteTime": {
     "end_time": "2017-04-20T19:09:12.299197Z",
     "start_time": "2017-04-20T19:09:11.961854Z"
    },
    "collapsed": true
   },
   "outputs": [],
   "source": [
    "sim = RDMESimulation(dimensions=micron(1.024,1.024,4.096), \n",
    "                     spacing=nm(16), \n",
    "                     name=\"E. coli with Custom Data\", \n",
    "                     defaultRegion=\"extracellular\")"
   ]
  },
  {
   "cell_type": "markdown",
   "metadata": {},
   "source": [
    "## Define the Reaction and Diffusion Models\n"
   ]
  },
  {
   "cell_type": "markdown",
   "metadata": {},
   "source": [
    "### Create Region Types\n",
    "\n",
    "After defining the simulation volume, the types of possible regions are defined. We use \"region types\" and \"site types\" interchangabely when talking about simulations. Region types do not define an actual spatial location, but a type of locations that have distinct reaction and diffusion characteristics.\n",
    "\n",
    "In this simulation, we will have three main region types:\n",
    "\n",
    "1. membrane - the cell membrane\n",
    "2. cytoplasm - the region that is generally free of DNA\n",
    "3. nucleoid - the region with slower diffusion due to ample DNA"
   ]
  },
  {
   "cell_type": "code",
   "execution_count": null,
   "metadata": {
    "ExecuteTime": {
     "end_time": "2017-04-20T19:09:12.304589Z",
     "start_time": "2017-04-20T19:09:12.301180Z"
    },
    "collapsed": true
   },
   "outputs": [],
   "source": [
    "mem = sim.addRegion(\"membrane\")\n",
    "cyt = sim.addRegion(\"cytoplasm\")\n",
    "nuc = sim.addRegion(\"nucleoid\")\n",
    "ext = sim.modifyRegion(\"extracellular\")"
   ]
  },
  {
   "cell_type": "markdown",
   "metadata": {},
   "source": [
    "### Reaction Model\n",
    "\n",
    "We define a toy gene expression model (with reasonable rates):\n",
    "\n",
    "1. D - Gene\n",
    "2. M - mRNA transcribed from gene\n",
    "3. P - protein translated from mRNA\n",
    "4. R - ribosomes\n",
    "\n",
    "Production reactions\n",
    "\n",
    "$D \\longrightarrow D+M$\n",
    "\n",
    "$M \\longrightarrow M+P$\n",
    "\n",
    "$R+M \\longrightarrow R+M+P$\n",
    "\n",
    "Degradation reactions\n",
    "\n",
    "$M \\longrightarrow \\emptyset$\n",
    "\n",
    "$P \\longrightarrow \\emptyset$"
   ]
  },
  {
   "cell_type": "code",
   "execution_count": null,
   "metadata": {
    "ExecuteTime": {
     "end_time": "2017-04-20T19:09:12.314381Z",
     "start_time": "2017-04-20T19:09:12.306402Z"
    },
    "collapsed": true,
    "scrolled": true
   },
   "outputs": [],
   "source": [
    "# Define the species\n",
    "species = ['D','M','P','R']\n",
    "sim.defineSpecies(species)\n",
    "\n",
    "# Production Reactions\n",
    "nuc.addReaction(reactant='D', product=('D','M'), rate=0.1)\n",
    "for reg in [nuc, cyt, mem]:\n",
    "    reg.addReaction(reactant=('R','M'), product=('R','M','P'), rate=1e-6)\n",
    "\n",
    "# Degradation reactions\n",
    "for reg in [nuc, cyt, mem]:\n",
    "    reg.addReaction(reactant='M', product='', rate=0.0033)\n",
    "    reg.addReaction(reactant='P', product='', rate=1.0/(20.0*60.0))"
   ]
  },
  {
   "cell_type": "markdown",
   "metadata": {},
   "source": [
    "### Diffusion Model\n",
    "\n",
    "Next, we define how particles diffuse in and among different region types. Diffusion rates are in MKS units (e.g. $m^2/s$)\n",
    "\n",
    "Two types of diffusions need to be defined:\n",
    "\n",
    "1. Intra-region diffusion - set with code of the form `region.setDiffusionRate(species=..., rate=...)`\n",
    "2. Inter-region diffusion - set with code ofthe form `simulation.setTwoWayTransitionRate(species=..., one=..., two=..., rate=...)`"
   ]
  },
  {
   "cell_type": "code",
   "execution_count": null,
   "metadata": {
    "ExecuteTime": {
     "end_time": "2017-04-20T19:09:12.350029Z",
     "start_time": "2017-04-20T19:09:12.342844Z"
    },
    "collapsed": true
   },
   "outputs": [],
   "source": [
    "# mRNA diffusion dates\n",
    "nuc.setDiffusionRate(species='M', rate=5e-14)\n",
    "cyt.setDiffusionRate(species='M', rate=5e-13)\n",
    "sim.setTwoWayTransitionRate(species='M',one='nucleoid', two='cytoplasm', rate=5e-13)\n",
    "sim.setTwoWayTransitionRate(species='M',one='membrane', two='cytoplasm', rate=5e-13)\n",
    "\n",
    "# Protein diffusion rates\n",
    "nuc.setDiffusionRate(species='P', rate=5e-13)\n",
    "cyt.setDiffusionRate(species='P', rate=5e-12)\n",
    "sim.setTwoWayTransitionRate(species='P',one='nucleoid', two='cytoplasm', rate=5e-12)\n",
    "_ = sim.setTwoWayTransitionRate(species='P',one='membrane', two='cytoplasm', rate=5e-12)\n"
   ]
  },
  {
   "cell_type": "markdown",
   "metadata": {},
   "source": [
    "### Add Particles that are Randomly Distributed\n",
    "\n",
    "When the starting location of particles isn't important, we just call the `sim.addParticles(...)` function. At the time of discretization (see below) particles will be randomly placed within the volumes that are defined as each region type."
   ]
  },
  {
   "cell_type": "code",
   "execution_count": null,
   "metadata": {
    "ExecuteTime": {
     "end_time": "2017-04-20T19:09:12.358388Z",
     "start_time": "2017-04-20T19:09:12.351704Z"
    },
    "collapsed": true
   },
   "outputs": [],
   "source": [
    "sim.addParticles(species='D', region='nucleoid', count=1)\n",
    "sim.addParticles(species='M', region='cytoplasm', count=30)\n",
    "sim.addParticles(species='P', region='cytoplasm', count=1000)\n",
    "\n",
    "# Display the simulation setup\n",
    "sim"
   ]
  },
  {
   "cell_type": "markdown",
   "metadata": {
    "ExecuteTime": {
     "end_time": "2017-04-13T18:03:46.754664",
     "start_time": "2017-04-13T18:03:46.735383"
    }
   },
   "source": [
    "## Build Spatial Regions\n",
    "\n",
    "Next we will define the spatial model for the simulation, in other words, we will define which parts of the simulation domain correspond to which region types. We will create a cell that is 3.6 $\\mu m$ long with a radius of 0.4 $\\mu m$. Additionally, the membrane on the outside will be 32 $nm$ wide. This is unrealistically large, however, it will ensure that there are no holes in the membrane."
   ]
  },
  {
   "cell_type": "code",
   "execution_count": null,
   "metadata": {
    "ExecuteTime": {
     "end_time": "2017-04-20T19:09:12.364950Z",
     "start_time": "2017-04-20T19:09:12.360127Z"
    },
    "collapsed": true
   },
   "outputs": [],
   "source": [
    "radius = micron(0.4) # Radius of the cell\n",
    "length = micron(3.6) # Length of a cell \n",
    "membraneThickness = nm(32) # Membrane thickness (2 lattice sites to prevent holes)"
   ]
  },
  {
   "cell_type": "markdown",
   "metadata": {},
   "source": [
    "### Cell Membrane and Cytoplasm\n",
    "\n",
    "The cell builder code in Lattice Microbes works like a paint canvas. Because each location in the lattice can only correspond with a single region type, the most recently applied shape will overwrite any previous applied. In this way, we will \"paint\" the structures one; first a spherocylinder for the membranem type, then another spherocylinder slightly smaller with a cytoplasm type, finally a much smaller spherocylinder for the nucleoid type."
   ]
  },
  {
   "cell_type": "code",
   "execution_count": null,
   "metadata": {
    "ExecuteTime": {
     "end_time": "2017-04-20T19:09:12.378169Z",
     "start_time": "2017-04-20T19:09:12.367883Z"
    },
    "collapsed": true
   },
   "outputs": [],
   "source": [
    "# Points take absolue coordinates\n",
    "p1 = lm.point(micron(0.512),micron(0.512), micron(4.096)/2.0-(length/2.0 - radius))\n",
    "p2 = lm.point(micron(0.512),micron(0.512), micron(4.096)/2.0+(length/2.0 - radius))\n",
    "\n",
    "# Construct a capsule for the outside of the membrane\n",
    "cellMembrane = lm.Capsule(p1, p2, radius, sim.siteTypes['membrane'])\n",
    "\n",
    "# Construct a capsule for the outside of the membrane\n",
    "cellCytoplasm = lm.Capsule(p1, p2, radius-membraneThickness, sim.siteTypes['cytoplasm'])"
   ]
  },
  {
   "cell_type": "markdown",
   "metadata": {},
   "source": [
    "### Cell Nucleoid"
   ]
  },
  {
   "cell_type": "code",
   "execution_count": null,
   "metadata": {
    "ExecuteTime": {
     "end_time": "2017-04-20T19:09:12.383774Z",
     "start_time": "2017-04-20T19:09:12.379797Z"
    },
    "collapsed": true
   },
   "outputs": [],
   "source": [
    "# Construct a capsule for the outside of the membrane\n",
    "p3 = lm.point(micron(0.512),micron(0.512), micron(4.096)/2.0-(0.8*length/2.0 - 0.7*radius))\n",
    "p4 = lm.point(micron(0.512),micron(0.512), micron(4.096)/2.0+(0.8*length/2.0 - 0.7*radius))\n",
    "cellNucleoid = lm.Capsule(p3, p4, 0.7*radius, sim.siteTypes['nucleoid'])"
   ]
  },
  {
   "cell_type": "markdown",
   "metadata": {},
   "source": [
    "### Add shapes to the LM Builder\n",
    "\n",
    "In the last two code cells, we created three objects: cellMembrane, cellCytoplasm and cellNucleoid. Once create, we can layer these objects by adding them to the lm_builder object that is associated with the RDMESimulation object. This is the act of \"painting\" them."
   ]
  },
  {
   "cell_type": "code",
   "execution_count": null,
   "metadata": {
    "ExecuteTime": {
     "end_time": "2017-04-20T19:09:12.388373Z",
     "start_time": "2017-04-20T19:09:12.385349Z"
    },
    "collapsed": true
   },
   "outputs": [],
   "source": [
    "# Layer each object into the simulation domain (this paints each layer in order)\n",
    "sim.lm_builder.addRegion(cellMembrane)\n",
    "sim.lm_builder.addRegion(cellCytoplasm)\n",
    "sim.lm_builder.addRegion(cellNucleoid)"
   ]
  },
  {
   "cell_type": "markdown",
   "metadata": {},
   "source": [
    "## Customize Spatial Regions\n",
    "\n",
    "Once the reaction, diffusion and spatial models have been defined, we can customize the simulation volume by adding particles at specific locations or modifying individual or sets of specific lattice sites. This is generally the location in simulation setup where any spatial data from experiments can be integrated. \n",
    "\n",
    "In this example, we will add ribosomes that were extracted from Cryo-EM data. The data is for a half of a single *E. coli* cell in exponential phase growing in glucose supplemented with amino acids (for more information <a href=\"http://journals.plos.org/ploscompbiol/article?id=10.1371/journal.pcbi.1002010\">see this article</a>; esp. Figure 14)."
   ]
  },
  {
   "cell_type": "markdown",
   "metadata": {},
   "source": [
    "### Load and Transform Ribosome Data\n",
    "\n",
    "The Cryo-EM data was pre-processed and is available in XYZ coordinates. Because the data is only for half a cell, we will mirror it. Also, because the data was for a cell that was randomly oriented, we will apply translation, rotation and scale operations to fit within our cell. While this operation could be done in a programmatic, intelligent fashion, for brevity we hardcoded them here."
   ]
  },
  {
   "cell_type": "code",
   "execution_count": null,
   "metadata": {
    "ExecuteTime": {
     "end_time": "2017-04-20T19:09:12.432667Z",
     "start_time": "2017-04-20T19:09:12.390014Z"
    },
    "collapsed": true
   },
   "outputs": [],
   "source": [
    "# Load Ribosome data\n",
    "ribosomeLocations = np.loadtxt(\"MOTL_70S_bin2_2_coordinatesINnm_1364p_t14.txt\")\n",
    "\n",
    "# Mirror data because we only have 1/2 of cell\n",
    "allRibosomes = np.concatenate((ribosomeLocations, -ribosomeLocations + [800,2550,450]))\n",
    "\n",
    "# Apply transformation to go from data units to units relevant for the cell simulation\n",
    "# Center on 0\n",
    "allRibosomes -= np.mean(allRibosomes,0)\n",
    "\n",
    "# Apply a rotation to align cell along z axis\n",
    "def eulerAnglesToRotationMatrix(theta) :\n",
    "    R_x = np.array([[1,         0,                  0                   ],\n",
    "                    [0,         math.cos(theta[0]), -math.sin(theta[0]) ],\n",
    "                    [0,         math.sin(theta[0]), math.cos(theta[0])  ]\n",
    "                    ])           \n",
    "    R_y = np.array([[math.cos(theta[1]),    0,      math.sin(theta[1])  ],\n",
    "                    [0,                     1,      0                   ],\n",
    "                    [-math.sin(theta[1]),   0,      math.cos(theta[1])  ]\n",
    "                    ])\n",
    "    R_z = np.array([[math.cos(theta[2]),    -math.sin(theta[2]),    0],\n",
    "                    [math.sin(theta[2]),    math.cos(theta[2]),     0],\n",
    "                    [0,                     0,                      1]\n",
    "                    ])          \n",
    "    R = np.dot(R_z, np.dot( R_y, R_x ))\n",
    "    return R\n",
    "\n",
    "allRibosomes = np.dot(allRibosomes,eulerAnglesToRotationMatrix(np.array([89.0,0.0,-9.0])*np.pi/180.0))\n",
    "\n",
    "# Center a second time\n",
    "allRibosomes -= np.mean(allRibosomes,0)\n",
    "\n",
    "# Scale data to fit within our cell\n",
    "allRibosomes *= micron(0.7,0.7,3.35)/(np.max(allRibosomes,0)-np.min(allRibosomes,0))\n"
   ]
  },
  {
   "cell_type": "code",
   "execution_count": null,
   "metadata": {
    "ExecuteTime": {
     "end_time": "2017-04-20T19:09:12.759576Z",
     "start_time": "2017-04-20T19:09:12.434352Z"
    },
    "collapsed": true,
    "scrolled": true
   },
   "outputs": [],
   "source": [
    "# Plot the ribosome data to ensure it looks good\n",
    "fig, axs = plt.subplots(1,3,figsize=(12,3))\n",
    "axs[0].scatter(allRibosomes[:,0],allRibosomes[:,1])\n",
    "axs[0].set_xlabel(\"x\")\n",
    "axs[0].set_ylabel(\"y\")\n",
    "axs[0].set_xlim(-5e-7,5e-7)\n",
    "axs[0].set_ylim(-5e-7,5e-7)\n",
    "c1 = plt.Circle((0,0), 4e-7, color='r', alpha=0.3)\n",
    "axs[0].add_artist(c1)\n",
    "\n",
    "axs[1].scatter(allRibosomes[:,0],allRibosomes[:,2])\n",
    "axs[1].set_xlabel(\"x\")\n",
    "axs[1].set_ylabel(\"z\")\n",
    "axs[1].set_xlim(-10e-7,10e-7)\n",
    "axs[1].set_ylim(-2e-6,2e-6)\n",
    "c1 = plt.Circle((0,1.4e-6), 4e-7, color='r', alpha=0.3)\n",
    "c2 = plt.Circle((0,-1.4e-6), 4e-7, color='r', alpha=0.3)\n",
    "axs[1].add_artist(c1)\n",
    "axs[1].add_artist(c2)\n",
    "\n",
    "axs[2].scatter(allRibosomes[:,1],allRibosomes[:,2])\n",
    "axs[2].set_xlabel(\"y\")\n",
    "axs[2].set_ylabel(\"z\")\n",
    "axs[2].set_xlim(-10e-7,10e-7)\n",
    "axs[2].set_ylim(-2e-6,2e-6)\n",
    "c1 = plt.Circle((0,1.4e-6), 4e-7, color='r', alpha=0.3)\n",
    "c2 = plt.Circle((0,-1.4e-6), 4e-7, color='r', alpha=0.3)\n",
    "axs[2].add_artist(c1)\n",
    "axs[2].add_artist(c2)\n",
    "\n",
    "\n",
    "plt.tight_layout()\n",
    "plt.show()"
   ]
  },
  {
   "cell_type": "markdown",
   "metadata": {},
   "source": [
    "### Add Ribosomes at Correct Locations"
   ]
  },
  {
   "cell_type": "code",
   "execution_count": null,
   "metadata": {
    "ExecuteTime": {
     "end_time": "2017-04-20T19:09:12.966853Z",
     "start_time": "2017-04-20T19:09:12.761233Z"
    },
    "collapsed": true
   },
   "outputs": [],
   "source": [
    "# Add Ribosome Particles to the simulation\n",
    "l = sim.getLattice()\n",
    "for i,j in enumerate(allRibosomes):\n",
    "    idx = list(map(int,(j+micron(0.5,0.5,2.0))/sim.latticeSpacing))\n",
    "    sim.addParticleAtIdx(index=idx,particleType='R')"
   ]
  },
  {
   "cell_type": "markdown",
   "metadata": {},
   "source": [
    "## Visualize Simulation Intial Conditions\n",
    "\n",
    "Finally, we can visualize the cell. To do this, we will use a function in pyLM that allows interactive visualization inside the Jupyter notebook. The GUI allows you to navigate through slices along the different axes (x, y, or z) and display different sets of particles (by shift- or control-clicking). Additionally, you can click within the image to get information about the site type and the particles contained within."
   ]
  },
  {
   "cell_type": "code",
   "execution_count": null,
   "metadata": {
    "ExecuteTime": {
     "end_time": "2017-04-20T19:09:13.295396Z",
     "start_time": "2017-04-20T19:09:12.968589Z"
    },
    "collapsed": true,
    "scrolled": true
   },
   "outputs": [],
   "source": [
    "# Call this function to create an interactive widget in the Jupyter notebook to visualize data.\n",
    "visualizeRDMEInitialConditions(sim)"
   ]
  },
  {
   "cell_type": "code",
   "execution_count": null,
   "metadata": {
    "ExecuteTime": {
     "end_time": "2017-04-20T19:09:14.725594Z",
     "start_time": "2017-04-20T19:09:13.296951Z"
    },
    "collapsed": true
   },
   "outputs": [],
   "source": [
    "# Save the simulation file to allow visualization with external software (e.g. VisIt or VMD)\n",
    "try:\n",
    "    os.remove('tut2.4-Ecolicell.lm')\n",
    "except:\n",
    "    pass\n",
    "sim.save(\"tut2.4-Ecolicell.lm\")"
   ]
  },
  {
   "cell_type": "code",
   "execution_count": null,
   "metadata": {
    "collapsed": true
   },
   "outputs": [],
   "source": []
  }
 ],
 "metadata": {
  "kernelspec": {
   "display_name": "Python 2",
   "language": "python",
   "name": "python2"
  },
  "language_info": {
   "codemirror_mode": {
    "name": "ipython",
    "version": 2
   },
   "file_extension": ".py",
   "mimetype": "text/x-python",
   "name": "python",
   "nbconvert_exporter": "python",
   "pygments_lexer": "ipython2",
   "version": "2.7.10"
  },
  "latex_envs": {
   "bibliofile": "biblio.bib",
   "cite_by": "apalike",
   "current_citInitial": 1,
   "eqLabelWithNumbers": true,
   "eqNumInitial": 0
  },
  "toc": {
   "toc_cell": false,
   "toc_number_sections": true,
   "toc_threshold": 6,
   "toc_window_display": false
  },
  "toc_position": {
   "height": "345px",
   "left": "993px",
   "right": "20px",
   "top": "125px",
   "width": "372px"
  }
 },
 "nbformat": 4,
 "nbformat_minor": 1
}
