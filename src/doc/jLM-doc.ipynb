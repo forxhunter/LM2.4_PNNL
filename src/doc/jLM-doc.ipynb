{
 "cells": [
  {
   "cell_type": "markdown",
   "metadata": {
    "deletable": true,
    "editable": true
   },
   "source": [
    "# Example of usage"
   ]
  },
  {
   "cell_type": "code",
   "execution_count": null,
   "metadata": {
    "collapsed": true,
    "deletable": true,
    "editable": true
   },
   "outputs": [],
   "source": [
    "import numpy as np\n",
    "import matplotlib.pyplot as plt\n",
    "%matplotlib inline"
   ]
  },
  {
   "cell_type": "code",
   "execution_count": null,
   "metadata": {
    "collapsed": false,
    "deletable": true,
    "editable": true
   },
   "outputs": [],
   "source": [
    "from jLM.RDME import Sim as RDMESim                   # Main simulation class\n",
    "from jLM.RegionBuilder import RegionBuilder           # Helper class to design the site lattice\n",
    "from jLM.Solvers import ConstBoundaryConc, makeSolver # Run the simulation\n",
    "from lm import MpdRdmeSolver                          # lm::rdme::MpdRdmeSolver\n",
    "import jLM                                            # Set up the Jupyter environment"
   ]
  },
  {
   "cell_type": "markdown",
   "metadata": {
    "deletable": true,
    "editable": true
   },
   "source": [
    "Our example system will be a $128\\times 128\\times 128$ lattice with a $32\\ nm$ lattice spacing. We are \n",
    "going to name it \"Example\", and it will write the Lattice Microbes data file to \"tmp.lm\". The simulation \n",
    "time step is $25\\ \\mu s$, and the default region is named \"external\"."
   ]
  },
  {
   "cell_type": "code",
   "execution_count": null,
   "metadata": {
    "collapsed": true,
    "deletable": true,
    "editable": true
   },
   "outputs": [],
   "source": [
    "lmFile =  \"tmp.lm\"\n",
    "\n",
    "sim = RDMESim(\"Example\",\n",
    "              lmFile,\n",
    "              [128,128,128],\n",
    "              32e-9,\n",
    "              \"external\",\n",
    "              dt=25e-6)"
   ]
  },
  {
   "cell_type": "markdown",
   "metadata": {
    "deletable": true,
    "editable": true
   },
   "source": [
    "We define a second region, \"free\", where the chemical reactions will occur. Here `sim.region()` either looks \n",
    "up an existing region type, or creates a new type if the name isn't already taken. We get handles to the `free` \n",
    "and `external` regions. These variables will be used as nouns in our computational description of the system."
   ]
  },
  {
   "cell_type": "code",
   "execution_count": null,
   "metadata": {
    "collapsed": true,
    "deletable": true,
    "editable": true
   },
   "outputs": [],
   "source": [
    "free = sim.region(\"free\")\n",
    "external = sim.region(\"external\")"
   ]
  },
  {
   "cell_type": "markdown",
   "metadata": {
    "deletable": true,
    "editable": true
   },
   "source": [
    "In order to design the site lattice geometry, we create a `RegionBuilder` object, which reads the lattice dimensions \n",
    "from our simulation object `sim`."
   ]
  },
  {
   "cell_type": "code",
   "execution_count": null,
   "metadata": {
    "collapsed": true,
    "deletable": true,
    "editable": true
   },
   "outputs": [],
   "source": [
    "B = RegionBuilder(sim)"
   ]
  },
  {
   "cell_type": "markdown",
   "metadata": {
    "deletable": true,
    "editable": true
   },
   "source": [
    "To describe the geometry of a compartment in a lattice based representation, it's easiest to think in terms of set \n",
    "operations. Our simulation geometry here is the space between two concentric spheres. We define 3-D boolean arrays \n",
    "of the same dimensions as the site lattice (called binary masks) such that `True` elements indicate that the \n",
    "corresponding subvolume is included in that compartment. The `external` region is defined by  as\n",
    "$$\\mathtt{external} = \\mathtt{bigSphere}^\\complement \\cup \\mathtt{littleSphere},  $$\n",
    "and naturally\n",
    "$$\\mathtt{free} = \\mathtt{external}^\\complement.$$\n",
    "Finally, to create the site lattice in our `sim` object, we call `B.compose`. This function takes a series of tuples \n",
    "where the first element is the region object that we are defining the geometry for, and the second element is the \n",
    "binary mask. To check our work, we call `sim.showRegionStack()` to get an interactive visualization of the site \n",
    "lattice."
   ]
  },
  {
   "cell_type": "code",
   "execution_count": null,
   "metadata": {
    "collapsed": false,
    "deletable": true,
    "editable": true,
    "run_control": {
     "marked": false
    }
   },
   "outputs": [],
   "source": [
    "outerSph = B.ellipsoid(radius=60,center=(64,64,64))\n",
    "innerSph = B.ellipsoid(radius=10,center=(64,64,64))\n",
    "extMask = ~outerSph | innerSph\n",
    "freeMask = ~extMask\n",
    "B.compose((free, freeMask), (external, extMask))\n",
    "sim.showRegionStack()"
   ]
  },
  {
   "cell_type": "markdown",
   "metadata": {
    "deletable": true,
    "editable": true
   },
   "source": [
    "Now we add some simple chemical reactions. Species, rate constant, and reaction types are created using the same \n",
    "semantics as for regions. When rate constants are defined, their reaction order must be specified after their \n",
    "reaction rate. Reaction rates are all given in terms of deterministic rate constants.\n",
    "\n",
    "Chemical reactions within a region are specified by two lists, reactants and products, composed of species objects, \n",
    "and the reaction rate object. An empty list denotes nothing on that side of the reaction.\n",
    "\n",
    "We place a molecule at a specific location using `Species.placeParticle`, and distribute a number of particles in a \n",
    "region uniformly using `Species.placeNumberInto`.\n",
    "\n",
    "After constructing the reactions, we can check our work using `sim.showReactions`"
   ]
  },
  {
   "cell_type": "code",
   "execution_count": null,
   "metadata": {
    "collapsed": false,
    "deletable": true,
    "editable": true,
    "scrolled": true
   },
   "outputs": [],
   "source": [
    "outerSpecies = sim.species(\"Outer\")\n",
    "innerSpecies = sim.species(\"Inner\")\n",
    "productSpecies = sim.species(\"Product\")\n",
    "dmrRate = sim.rateConst(\"dmr\", 1e6, 2)\n",
    "free.addReaction([innerSpecies, outerSpecies], [productSpecies], dmrRate)\n",
    "\n",
    "sourceSpecies = sim.species(\"Source\")\n",
    "sourceSpecies.placeParticle(64,64,32,1)\n",
    "\n",
    "degSpecies = sim.species(\"Deg\")\n",
    "degSpecies.placeNumberInto(free, 10)\n",
    "\n",
    "birthRate = sim.rateConst(\"degBirth\", 100., 1)\n",
    "free.addReaction([sourceSpecies], [degSpecies, sourceSpecies], birthRate)\n",
    "\n",
    "dcyRate = sim.rateConst(\"degDeath\", 1.0, 1)\n",
    "free.addReaction([degSpecies], [], dcyRate)\n",
    "\n",
    "anhRate = sim.rateConst(\"annhil\", 1e7, 2)\n",
    "free.addReaction([degSpecies, productSpecies], [], anhRate)\n",
    "\n",
    "sim.showReactions()"
   ]
  },
  {
   "cell_type": "markdown",
   "metadata": {
    "deletable": true,
    "editable": true
   },
   "source": [
    "To define the diffusive properties of the chemical species, we use two basic techniques. To set multiple entries in \n",
    "the diffusion matrix, we use `sim.transitionRate(species, fromRegion, toRegion, diffusionRate`. If the species or \n",
    "region terms are `None`, that acts as a wild card which sets all entries along that axis of the diffusion matrix. \n",
    "This allows an easy way to set up the default diffusion parameters first, then specialize the diffusion rates for\n",
    "specific species.\n",
    "\n",
    "To define the diffusion rate for specific species, the method `Species.diffusionRate` is called.\n",
    "\n",
    "To check our work so far, we use `sim.showAllSpecies`. This provides a dropdown menu that selects the species type. \n",
    "If the diffusion matrix is underspecified, the missing elements will be highlighted here."
   ]
  },
  {
   "cell_type": "code",
   "execution_count": null,
   "metadata": {
    "collapsed": false,
    "deletable": true,
    "editable": true,
    "scrolled": false
   },
   "outputs": [],
   "source": [
    "sim.transitionRate(None, external, external, sim.diffusionFast)\n",
    "sim.transitionRate(None, free, external, sim.diffusionZero)\n",
    "sim.transitionRate(None, external, free, sim.diffusionFast)\n",
    "\n",
    "diff = sim.diffusionConst(\"normal\", 1e-13)\n",
    "diffSlow = sim.diffusionConst(\"slow\", 1e-15)\n",
    "\n",
    "outerSpecies.diffusionRate(free, diff)\n",
    "innerSpecies.diffusionRate(free, diff)\n",
    "productSpecies.diffusionRate(free, diffSlow)\n",
    "sourceSpecies.diffusionRate(free, sim.diffusionZero)\n",
    "degSpecies.diffusionRate(free, diffSlow)\n",
    "\n",
    "sim.showAllSpecies()"
   ]
  },
  {
   "cell_type": "markdown",
   "metadata": {
    "deletable": true,
    "editable": true
   },
   "source": [
    "To be sure that we placed the $\\mathrm{Source}$ molecule in the right place with respect to the lattice geometry, we \n",
    "can use the 3-D lattice viewer, `sim.displayGeometry`. The viewer has a key which shows which colors correspond to \n",
    "which region. Included in the key is a button which toggles the visibility of the region or species. After making the \n",
    "`external` region transparent and hiding the `free` region, we can see that the $\\mathrm{Source}$ species is placed\n",
    "reasonably."
   ]
  },
  {
   "cell_type": "code",
   "execution_count": null,
   "metadata": {
    "collapsed": false,
    "deletable": true,
    "editable": true,
    "scrolled": false
   },
   "outputs": [],
   "source": [
    "sim.displayGeometry()"
   ]
  },
  {
   "cell_type": "markdown",
   "metadata": {
    "deletable": true,
    "editable": true
   },
   "source": [
    "Now that we've defined the species, reactions, geometry, and diffusion constants, we can finalize the simulation and \n",
    "write a LM data file. First we need to specify the rate that the full particle lattice is written to disk. Here we \n",
    "set `sim.latticeWriteInterval` to 0.01 seconds, meaning that every 10 ms of simulated time, the state of the particle \n",
    "lattice will be written. Similarly, we set `sim.speciesWriteInterval` which governs the rate in which only the total \n",
    "particle counts are written. We set the total simulated time to 2 seconds, and write the simulation file to disk."
   ]
  },
  {
   "cell_type": "code",
   "execution_count": null,
   "metadata": {
    "collapsed": false,
    "deletable": true,
    "editable": true,
    "scrolled": false
   },
   "outputs": [],
   "source": [
    "sim.latticeWriteInterval = 0.01\n",
    "sim.speciesWriteInterval = sim.latticeWriteInterval\n",
    "sim.simulationTime = 2\n",
    "sim.finalize()\n",
    "sim"
   ]
  },
  {
   "cell_type": "markdown",
   "metadata": {
    "deletable": true,
    "editable": true
   },
   "source": [
    "At this point, we could run the simulation, however we did not specify any concentration for the $\\mathrm{Inner}$ \n",
    "and $\\mathrm{Outer}$ species. We are going to introduce these species into the simulation through constant \n",
    "concentration boundary conditions. The $\\mathrm{Outer}$ species will be created at the outer surface, and the \n",
    "$\\mathrm{Inner}$ species at the inner surface. \n",
    "\n",
    "To describe the boundary, we use a binary mask which indicate whether or not a subvolume is included in the boundary. \n",
    "To create a shell that overlaps with the `free` region and touches the `external` region, we use binary morphological \n",
    "operations on our previously created sphere masks. The outer boundary is simply the outer sphere minus the \n",
    "complement of the dilated outer sphere. Here we use a structuring element which includes only the six nearest\n",
    "neighbors of each subvolume. Similarly for the inner boundary, it is simply the dilated inner sphere minus the \n",
    "original inner sphere.\n",
    "\n",
    "To make sure we described this correctly, we will use `RegionBuilder.showBinaryLattices` to view our construction. To\n",
    "allow us to see into the spheres, we will only display half of them. In order to only show the half spheres, the \n",
    "`filterFunction` option is used. This takes a dictionary where the keys are the names of regions specified in the \n",
    "function call, and the values are functions such that $f(x,y,z)\\to\\mathrm{Bool}$ is a function that returns true when \n",
    "the site index $(x,y,z)$ should be visible."
   ]
  },
  {
   "cell_type": "code",
   "execution_count": null,
   "metadata": {
    "collapsed": false,
    "deletable": true,
    "editable": true
   },
   "outputs": [],
   "source": [
    "outerBoundary = outerSph & ~ B.erode(outerSph, se=B.se6)\n",
    "innerBoundary = B.dilate(innerSph, se=B.se6) & ~ innerSph\n",
    "\n",
    "B.showBinaryLattices(dict(external=extMask, outerBoundary=outerBoundary, innerBoundary=innerBoundary),\n",
    "                    filterFunctions=dict(external=lambda x,y,z: z>64,\n",
    "                                         outerBoundary=lambda x,y,z: z>64,\n",
    "                                         innerBoundary=lambda x,y,z:z > 64))"
   ]
  },
  {
   "cell_type": "markdown",
   "metadata": {
    "deletable": true,
    "editable": true
   },
   "source": [
    "To actually use the boundary conditions, we must use a derived solver class. `ConstBoundaryConc` is a solver mixin \n",
    "defined in `jLM` which overrides `hookSimulation` in order to reset the concentration of species at the boundaries. \n",
    "`hookSimulation` is only called when the particle lattice is written to disk, so the lattice should be written \n",
    "sufficiently frequently to ensure that the boundary concentrations are indeed constant.\n",
    "\n",
    "To create the solver, we use the single GPU MPD-RDME solver, `lm.MpdRdmeSolver`, however other solvers could be used \n",
    "as well (e.g. `lm.MGPUMpdRdmeSolver`.) The convenience function `makeSolver` composes the custom solver and the LM \n",
    "solver.\n",
    "\n",
    "After instantiating the solver, we specify the boundary conditions in terms of the list of fixed concentration \n",
    "species, the list of requested concentrations, and the binary mask describing the boundary."
   ]
  },
  {
   "cell_type": "code",
   "execution_count": null,
   "metadata": {
    "collapsed": true,
    "deletable": true,
    "editable": true
   },
   "outputs": [],
   "source": [
    "Solver = makeSolver(MpdRdmeSolver, ConstBoundaryConc)\n",
    "solver = Solver(sim)\n",
    "solver.setBoundary([innerSpecies], [1e-5], innerBoundary)\n",
    "solver.setBoundary([outerSpecies], [1e-5], outerBoundary)"
   ]
  },
  {
   "cell_type": "markdown",
   "metadata": {
    "deletable": true,
    "editable": true
   },
   "source": [
    "Finally, we run the simulation in the notebook. This returns a new simulation object with the results of the \n",
    "simulation."
   ]
  },
  {
   "cell_type": "code",
   "execution_count": null,
   "metadata": {
    "collapsed": false,
    "deletable": true,
    "editable": true,
    "scrolled": true
   },
   "outputs": [],
   "source": [
    "traj = sim.run(solver=solver, cudaDevices=[0])"
   ]
  },
  {
   "cell_type": "markdown",
   "metadata": {
    "deletable": true,
    "editable": true
   },
   "source": [
    "From the new simulation object, we extract the total particle numbers as a function of time, the spatial \n",
    "distribution of particles as a function of time, and the spatial distribution of particles. It should be noted here \n",
    "that the `Species`, `Region`, etc. data types from before are no longer valid here since they were associated with \n",
    "the `sim` object, not the new `traj` object."
   ]
  },
  {
   "cell_type": "code",
   "execution_count": null,
   "metadata": {
    "collapsed": false,
    "deletable": true,
    "editable": true
   },
   "outputs": [],
   "source": [
    "fig,((ax0,ax1),(ax2,ax3)) = plt.subplots(ncols=2, nrows=2, figsize=(12,10))\n",
    "\n",
    "def plotNum(sp):\n",
    "    ts, ns = sp.getNumberTrajectory()\n",
    "    ax0.semilogy(ts, ns, label=sp.name)\n",
    "    \n",
    "plotNum(traj.sp.Outer)\n",
    "plotNum(traj.sp.Inner)\n",
    "plotNum(traj.sp.Product)\n",
    "plotNum(traj.sp.Source)\n",
    "plotNum(traj.sp.Deg)\n",
    "ax0.legend()\n",
    "ax0.set(title=\"Absolute number\", xlabel=\"t/s\", ylabel=\"Particle count\")\n",
    "    \n",
    "ts, degN =  traj.sp.Deg.getLatticeTrajectory(integrated='xy')\n",
    "ax1.imshow(degN.T,aspect='auto',extent=(0,ts[-1],0,degN.shape[1]))\n",
    "ax1.set(title=\"Deg\", xlabel=\"t/s\", ylabel=\"z-index\")\n",
    "\n",
    "ts, outerN =  traj.sp.Outer.getLatticeTrajectory(integrated='xy')\n",
    "ax2.imshow(outerN.T,aspect='auto',extent=(0,ts[-1],0,outerN.shape[1]))\n",
    "ax2.set(title=\"Outer\", xlabel=\"t/s\", ylabel=\"z-index\")\n",
    "\n",
    "prodHist = traj.sp.Product.getLatticeHistogram(integrated='z',timeStart=1.8, timeEnd=2.0)\n",
    "ax3.imshow(prodHist,aspect='auto')\n",
    "ax3.set(title=\"Product\", xlabel=\"x-index\", ylabel=\"y-index\")\n",
    "\n",
    "fig.tight_layout()"
   ]
  }
 ],
 "metadata": {
  "kernelspec": {
   "display_name": "Python 3",
   "language": "python",
   "name": "python3"
  },
  "language_info": {
   "codemirror_mode": {
    "name": "ipython",
    "version": 3
   },
   "file_extension": ".py",
   "mimetype": "text/x-python",
   "name": "python",
   "nbconvert_exporter": "python",
   "pygments_lexer": "ipython3",
   "version": "3.5.3"
  }
 },
 "nbformat": 4,
 "nbformat_minor": 2
}
